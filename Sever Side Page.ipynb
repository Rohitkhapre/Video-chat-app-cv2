{
 "cells": [
  {
   "cell_type": "code",
   "execution_count": 1,
   "id": "8782c327",
   "metadata": {},
   "outputs": [],
   "source": [
    "# this is Server Page \n",
    "# created by Rohit khapre"
   ]
  },
  {
   "cell_type": "code",
   "execution_count": 2,
   "id": "f110f172",
   "metadata": {},
   "outputs": [],
   "source": [
    "# import library\n",
    "import cv2\n",
    "import socket\n",
    "import pickle\n",
    "import struct"
   ]
  },
  {
   "cell_type": "code",
   "execution_count": 3,
   "id": "37d8aab1",
   "metadata": {},
   "outputs": [
    {
     "name": "stdout",
     "output_type": "stream",
     "text": [
      "Socket successfully created ...\n"
     ]
    }
   ],
   "source": [
    "# create Socket \n",
    "try:\n",
    "    skt = socket.socket(socket.AF_INET, socket.SOCK_STREAM)\n",
    "    print(\"Socket successfully created ...\")\n",
    "except socket.error as err:\n",
    "    print(\"Socket creation failed with error {}\".formatat(err))"
   ]
  },
  {
   "cell_type": "code",
   "execution_count": 4,
   "id": "b58dc54f",
   "metadata": {},
   "outputs": [
    {
     "name": "stdout",
     "output_type": "stream",
     "text": [
      "Socket is listening......\n",
      "Connected to :  ('127.0.0.1', 55168)\n"
     ]
    }
   ],
   "source": [
    "# main Program Block\n",
    "# Bind the port no and ipAddress \n",
    "port = 1235\n",
    "server_ip= \"localhost\"\n",
    "skt.bind((server_ip, port))\n",
    "skt.listen()\n",
    "print(\"Socket is listening......\")\n",
    "try:\n",
    "    while True:\n",
    "        session, address = skt.accept()\n",
    "        print(\"Connected to : \",address)\n",
    "        if session:\n",
    "            cam = cv2.VideoCapture(0)\n",
    "            while(cam.isOpened()):\n",
    "                ret, img = cam.read()\n",
    "                data = pickle.dumps(img)\n",
    "                msg = struct.pack(\"Q\", len(data))+ data\n",
    "                session.sendall(msg)\n",
    "                cv2.imshow(\"Transmitting video...\",img)\n",
    "                if cv2.waitKey(1) == 13:\n",
    "                    cv2.destroyAllWindows()\n",
    "                    session.close()\n",
    "                    break\n",
    "except:\n",
    "    cv2.destroyAllWindows()\n",
    "    session.close()"
   ]
  },
  {
   "cell_type": "code",
   "execution_count": null,
   "id": "2e9884dd",
   "metadata": {},
   "outputs": [],
   "source": []
  }
 ],
 "metadata": {
  "kernelspec": {
   "display_name": "Python 3",
   "language": "python",
   "name": "python3"
  },
  "language_info": {
   "codemirror_mode": {
    "name": "ipython",
    "version": 3
   },
   "file_extension": ".py",
   "mimetype": "text/x-python",
   "name": "python",
   "nbconvert_exporter": "python",
   "pygments_lexer": "ipython3",
   "version": "3.11.3"
  }
 },
 "nbformat": 4,
 "nbformat_minor": 5
}
