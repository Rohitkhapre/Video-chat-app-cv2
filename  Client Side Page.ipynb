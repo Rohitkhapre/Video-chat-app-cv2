{
 "cells": [
  {
   "cell_type": "code",
   "execution_count": 13,
   "id": "25ca85d0",
   "metadata": {},
   "outputs": [],
   "source": [
    "# this is Client Page \n",
    "# created by Sandeep Rohit khapre"
   ]
  },
  {
   "cell_type": "code",
   "execution_count": 14,
   "id": "98e38f80",
   "metadata": {},
   "outputs": [],
   "source": [
    "# import library\n",
    "import cv2\n",
    "import socket\n",
    "import pickle\n",
    "import struct"
   ]
  },
  {
   "cell_type": "code",
   "execution_count": 15,
   "id": "7876f1e5",
   "metadata": {},
   "outputs": [
    {
     "name": "stdout",
     "output_type": "stream",
     "text": [
      "Socket successfully created Now Show ...\n"
     ]
    }
   ],
   "source": [
    "# create Socket\n",
    "try:\n",
    "    skt = socket.socket(socket.AF_INET, socket.SOCK_STREAM)\n",
    "    print(\"Socket successfully created Now Show ...\")\n",
    "except socket.error as err:\n",
    "    print(\"Socket creation failed with error {}\".formatat(err))"
   ]
  },
  {
   "cell_type": "code",
   "execution_count": 16,
   "id": "b3966c4b",
   "metadata": {},
   "outputs": [
    {
     "name": "stdout",
     "output_type": "stream",
     "text": [
      "Connected to server at IP: localhost\n"
     ]
    }
   ],
   "source": [
    "import socket\n",
    "import struct\n",
    "import pickle\n",
    "import cv2\n",
    "\n",
    "# Initialize the socket\n",
    "skt = socket.socket(socket.AF_INET, socket.SOCK_STREAM)\n",
    "\n",
    "# Main Program Block\n",
    "port = 1235\n",
    "server_ip = \"localhost\"  # Paste your server IP address here\n",
    "\n",
    "try:\n",
    "    # Attempt to connect to the server\n",
    "    skt.connect((server_ip, port))\n",
    "    print(f\"Connected to server at IP: {server_ip}\")\n",
    "\n",
    "    data = b\"\"\n",
    "    payload_size = struct.calcsize(\"Q\")\n",
    "\n",
    "    while True:\n",
    "        while len(data) < payload_size:\n",
    "            packet = skt.recv(4*1024)\n",
    "            if not packet:\n",
    "                break\n",
    "            data += packet\n",
    "\n",
    "        packed_msg_size = data[:payload_size]\n",
    "        data = data[payload_size:]\n",
    "        msg_size =  struct.unpack(\"Q\", packed_msg_size)[0]\n",
    "\n",
    "        while len(data) < msg_size:\n",
    "            data += skt.recv(4*1024)\n",
    "\n",
    "        img_data = data[:msg_size]\n",
    "        data = data[msg_size:]\n",
    "        img = pickle.loads(img_data)\n",
    "        cv2.imshow(\"Receiving video\", img)\n",
    "\n",
    "        # Break the loop if 'Enter' key (13) is pressed\n",
    "        if cv2.waitKey(10) == 13:\n",
    "            cv2.destroyAllWindows()\n",
    "            break\n",
    "\n",
    "except ConnectionRefusedError:\n",
    "    print(f\"Unable to connect to the server at IP: {server_ip}\")\n",
    "except Exception as e:\n",
    "    print(f\"An error occurred: {e}\")\n",
    "finally:\n",
    "    # Release OpenCV resources and close the socket gracefully\n",
    "    cv2.destroyAllWindows()\n",
    "    skt.close()"
   ]
  }
 ],
 "metadata": {
  "kernelspec": {
   "display_name": "Python 3",
   "language": "python",
   "name": "python3"
  },
  "language_info": {
   "codemirror_mode": {
    "name": "ipython",
    "version": 3
   },
   "file_extension": ".py",
   "mimetype": "text/x-python",
   "name": "python",
   "nbconvert_exporter": "python",
   "pygments_lexer": "ipython3",
   "version": "3.11.3"
  }
 },
 "nbformat": 4,
 "nbformat_minor": 5
}
